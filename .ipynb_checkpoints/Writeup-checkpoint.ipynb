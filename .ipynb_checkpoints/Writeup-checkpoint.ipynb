{
 "cells": [
  {
   "cell_type": "markdown",
   "metadata": {},
   "source": [
    "# CarND-Controls-Model Predictive Control (MPC)\n",
    "Self-Driving Car Engineer Nanodegree Program\n",
    "\n",
    "---\n",
    "\n",
    "## Implementation\n",
    "\n",
    "\n",
    "**The Model**\n",
    "\n",
    "* The Model Predictive Control is a nonlinear optimal controller that uses a kinematic model of the vehicle's motion in a Unity simulator. The state comprises of `x` and `y` coordinates of the vehicle, orientation of the vehicle - `psi`, velocity of the vehicle - `v`, cross track error between desired and actual trajectory - `cte` and heading error - `epsi`. The control inputs are the steering angle - `delta` and throttle - `a`. The kinematic model is shown in the graphic alongwith the constraints on control inputs. \n",
    "\n",
    "<p></p> \n",
    "<figure>\n",
    " <img src=\"mpc-1.png\" width=\"600\" alt=\"Kinematic Equations\" />\n",
    " <figcaption>\n",
    " <p></p> \n",
    " <p style=\"text-align: center;\"> Kinematic Equations </p> \n",
    " </figcaption>\n",
    "</figure>\n",
    "<p></p>\n",
    "\n",
    "* The above graphic also hints at the functioning of the MPC controller. The future time horizon is divided into `N` time steps with a duration of `dt` between them. The desired trajectory in the form of waypoints is given to the controller along with the current state. The cross track error and orienation error is computed. A cost function is generated which takes into account the costs incurred due to cross track error error, orienation error,  and velocity error. In addition, to ensure that actual inputs are smoother for better stability of the controller additional costs due to magnitudes, slopes and curvature of steering angle and throttle are added to the cost function. Then the constraints on the actuator inputs (control inputs) are added and the nonlinear optimization problem is solved as illustrated in these graphics: \n",
    "\n",
    "<figure>\n",
    " <img src=\"mpc-2.png\" width=\"600\" alt=\"Solver\" />\n",
    " <figcaption>\n",
    " <p></p> \n",
    " <p style=\"text-align: center;\"> Solver </p> \n",
    " </figcaption>\n",
    "</figure>\n",
    "<p></p>\n",
    "<figure>\n",
    " <img src=\"mpc-3.png\" width=\"600\" alt=\"Output\" />\n",
    " <figcaption>\n",
    " <p></p> \n",
    " <p style=\"text-align: center;\"> Output </p> \n",
    " </figcaption>\n",
    "</figure>\n",
    "<p></p>\n",
    "\n",
    "* The Ipopt solver gives optimal actuator inputs over the receding horizon of N timesteps. The controller executes the first step and resolves the same problem at the next iteration. This is done to ensure that controller is robust to scene changes on the road. The waypoints predicted by the controller are shown in green in the simulator while the actual waypoints are shown in yellow. \n",
    "\n",
    "\n",
    "**Timestep Length and Elapsed Duration (N & dt)**\n",
    "\n",
    "* `N` was chosen as `10` and `dt` was set to `0.05` seconds to give a total time horizon spanning over `0.5` seconds. `N` has a heavy toll on performance of the solver so it was not increased, a smaller value of `5` was tried but led to worse performance as there were too few waypoints to accurately set the associated costs. The duration `dt` was set as `0.1` initially but led to the car cutting some corners on turns as there were not enough predicted waypoints to negotiate turns smoothly, so a value of `0.05`seconds was chosen which better approximated the the desired trajectory at turns. \n",
    "\n",
    "\n",
    "\n",
    "**Polynomial Fitting and MPC Preprocessing**\n",
    "\n",
    "* A cubic polynomial was fitted to the desired waypoints which were first transformed to the vehicle frame to make subsequent calculations easier - the `x`, `y` and `psi` states are always zero in this coordinate frame. The orienation errors were calculated by calculating the difference between the slopes of desired polynomial curve and current orienation. The cross track error was computed similarly. An adaptive reference velocity was set to incorporate braking at the turns since it's an expected human behavior to brake at a turn. This is achieved by penalizing cross track error and orientation error when calculating desired velocity.   \n",
    "\n",
    "\n",
    "**Model Predictive Control with Latency**\n",
    "\n",
    "* In real-world situations there is a certain lag between the time when the solver outputs a solution and the actuators actually execute it. This is approximated to be 100 ms in this model and is handled by calculating the position and velocity of the vehicle in the global coordinate frame after this delay. This information is then utilized to calculate the new coordinates of desired waypoints in the vehicle frame which has moved globally. The rest of the procedure is similar except that the desired velocity is decreased from 120 to 100 miles per hour and the cost function coefficients are changed in comparision to the no-delay case.\n",
    "\n",
    "\n",
    "**Videos**\n",
    "\n",
    "* https://youtu.be/uJQ-8ufyZcQ"
   ]
  },
  {
   "cell_type": "code",
   "execution_count": null,
   "metadata": {
    "collapsed": true
   },
   "outputs": [],
   "source": []
  }
 ],
 "metadata": {
  "anaconda-cloud": {},
  "kernelspec": {
   "display_name": "Python [default]",
   "language": "python",
   "name": "python3"
  },
  "language_info": {
   "codemirror_mode": {
    "name": "ipython",
    "version": 3
   },
   "file_extension": ".py",
   "mimetype": "text/x-python",
   "name": "python",
   "nbconvert_exporter": "python",
   "pygments_lexer": "ipython3",
   "version": "3.5.2"
  }
 },
 "nbformat": 4,
 "nbformat_minor": 2
}
